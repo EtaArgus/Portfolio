{
 "cells": [
  {
   "cell_type": "code",
   "execution_count": 1,
   "metadata": {
    "collapsed": true
   },
   "outputs": [],
   "source": [
    "import numpy as np\n",
    "import pandas as pd\n",
    "import matplotlib.pyplot as plt\n",
    "%matplotlib inline\n",
    "import tensorflow as tf\n",
    "from sklearn.model_selection import train_test_split"
   ]
  },
  {
   "cell_type": "markdown",
   "metadata": {},
   "source": [
    "#### Read data"
   ]
  },
  {
   "cell_type": "code",
   "execution_count": 2,
   "metadata": {
    "collapsed": true
   },
   "outputs": [],
   "source": [
    "my_data = pd.read_csv('C:/Users/Charles/AnacondaProjects/Tensorflow-Bootcamp/'\n",
    "                      '02-TensorFlow-Basics/cal_housing_clean.csv')"
   ]
  },
  {
   "cell_type": "code",
   "execution_count": 3,
   "metadata": {},
   "outputs": [
    {
     "data": {
      "text/html": [
       "<div>\n",
       "<style>\n",
       "    .dataframe thead tr:only-child th {\n",
       "        text-align: right;\n",
       "    }\n",
       "\n",
       "    .dataframe thead th {\n",
       "        text-align: left;\n",
       "    }\n",
       "\n",
       "    .dataframe tbody tr th {\n",
       "        vertical-align: top;\n",
       "    }\n",
       "</style>\n",
       "<table border=\"1\" class=\"dataframe\">\n",
       "  <thead>\n",
       "    <tr style=\"text-align: right;\">\n",
       "      <th></th>\n",
       "      <th>housingMedianAge</th>\n",
       "      <th>totalRooms</th>\n",
       "      <th>totalBedrooms</th>\n",
       "      <th>population</th>\n",
       "      <th>households</th>\n",
       "      <th>medianIncome</th>\n",
       "      <th>medianHouseValue</th>\n",
       "    </tr>\n",
       "  </thead>\n",
       "  <tbody>\n",
       "    <tr>\n",
       "      <th>0</th>\n",
       "      <td>41.0</td>\n",
       "      <td>880.0</td>\n",
       "      <td>129.0</td>\n",
       "      <td>322.0</td>\n",
       "      <td>126.0</td>\n",
       "      <td>8.3252</td>\n",
       "      <td>452600.0</td>\n",
       "    </tr>\n",
       "    <tr>\n",
       "      <th>1</th>\n",
       "      <td>21.0</td>\n",
       "      <td>7099.0</td>\n",
       "      <td>1106.0</td>\n",
       "      <td>2401.0</td>\n",
       "      <td>1138.0</td>\n",
       "      <td>8.3014</td>\n",
       "      <td>358500.0</td>\n",
       "    </tr>\n",
       "    <tr>\n",
       "      <th>2</th>\n",
       "      <td>52.0</td>\n",
       "      <td>1467.0</td>\n",
       "      <td>190.0</td>\n",
       "      <td>496.0</td>\n",
       "      <td>177.0</td>\n",
       "      <td>7.2574</td>\n",
       "      <td>352100.0</td>\n",
       "    </tr>\n",
       "    <tr>\n",
       "      <th>3</th>\n",
       "      <td>52.0</td>\n",
       "      <td>1274.0</td>\n",
       "      <td>235.0</td>\n",
       "      <td>558.0</td>\n",
       "      <td>219.0</td>\n",
       "      <td>5.6431</td>\n",
       "      <td>341300.0</td>\n",
       "    </tr>\n",
       "    <tr>\n",
       "      <th>4</th>\n",
       "      <td>52.0</td>\n",
       "      <td>1627.0</td>\n",
       "      <td>280.0</td>\n",
       "      <td>565.0</td>\n",
       "      <td>259.0</td>\n",
       "      <td>3.8462</td>\n",
       "      <td>342200.0</td>\n",
       "    </tr>\n",
       "  </tbody>\n",
       "</table>\n",
       "</div>"
      ],
      "text/plain": [
       "   housingMedianAge  totalRooms  totalBedrooms  population  households  \\\n",
       "0              41.0       880.0          129.0       322.0       126.0   \n",
       "1              21.0      7099.0         1106.0      2401.0      1138.0   \n",
       "2              52.0      1467.0          190.0       496.0       177.0   \n",
       "3              52.0      1274.0          235.0       558.0       219.0   \n",
       "4              52.0      1627.0          280.0       565.0       259.0   \n",
       "\n",
       "   medianIncome  medianHouseValue  \n",
       "0        8.3252          452600.0  \n",
       "1        8.3014          358500.0  \n",
       "2        7.2574          352100.0  \n",
       "3        5.6431          341300.0  \n",
       "4        3.8462          342200.0  "
      ]
     },
     "execution_count": 3,
     "metadata": {},
     "output_type": "execute_result"
    }
   ],
   "source": [
    "my_data.head()"
   ]
  },
  {
   "cell_type": "code",
   "execution_count": 4,
   "metadata": {},
   "outputs": [
    {
     "data": {
      "text/html": [
       "<div>\n",
       "<style>\n",
       "    .dataframe thead tr:only-child th {\n",
       "        text-align: right;\n",
       "    }\n",
       "\n",
       "    .dataframe thead th {\n",
       "        text-align: left;\n",
       "    }\n",
       "\n",
       "    .dataframe tbody tr th {\n",
       "        vertical-align: top;\n",
       "    }\n",
       "</style>\n",
       "<table border=\"1\" class=\"dataframe\">\n",
       "  <thead>\n",
       "    <tr style=\"text-align: right;\">\n",
       "      <th></th>\n",
       "      <th>housingMedianAge</th>\n",
       "      <th>totalRooms</th>\n",
       "      <th>totalBedrooms</th>\n",
       "      <th>population</th>\n",
       "      <th>households</th>\n",
       "      <th>medianIncome</th>\n",
       "      <th>medianHouseValue</th>\n",
       "    </tr>\n",
       "  </thead>\n",
       "  <tbody>\n",
       "    <tr>\n",
       "      <th>count</th>\n",
       "      <td>20640.000000</td>\n",
       "      <td>20640.000000</td>\n",
       "      <td>20640.000000</td>\n",
       "      <td>20640.000000</td>\n",
       "      <td>20640.000000</td>\n",
       "      <td>20640.000000</td>\n",
       "      <td>20640.000000</td>\n",
       "    </tr>\n",
       "    <tr>\n",
       "      <th>mean</th>\n",
       "      <td>28.639486</td>\n",
       "      <td>2635.763081</td>\n",
       "      <td>537.898014</td>\n",
       "      <td>1425.476744</td>\n",
       "      <td>499.539680</td>\n",
       "      <td>3.870671</td>\n",
       "      <td>206855.816909</td>\n",
       "    </tr>\n",
       "    <tr>\n",
       "      <th>std</th>\n",
       "      <td>12.585558</td>\n",
       "      <td>2181.615252</td>\n",
       "      <td>421.247906</td>\n",
       "      <td>1132.462122</td>\n",
       "      <td>382.329753</td>\n",
       "      <td>1.899822</td>\n",
       "      <td>115395.615874</td>\n",
       "    </tr>\n",
       "    <tr>\n",
       "      <th>min</th>\n",
       "      <td>1.000000</td>\n",
       "      <td>2.000000</td>\n",
       "      <td>1.000000</td>\n",
       "      <td>3.000000</td>\n",
       "      <td>1.000000</td>\n",
       "      <td>0.499900</td>\n",
       "      <td>14999.000000</td>\n",
       "    </tr>\n",
       "    <tr>\n",
       "      <th>25%</th>\n",
       "      <td>18.000000</td>\n",
       "      <td>1447.750000</td>\n",
       "      <td>295.000000</td>\n",
       "      <td>787.000000</td>\n",
       "      <td>280.000000</td>\n",
       "      <td>2.563400</td>\n",
       "      <td>119600.000000</td>\n",
       "    </tr>\n",
       "    <tr>\n",
       "      <th>50%</th>\n",
       "      <td>29.000000</td>\n",
       "      <td>2127.000000</td>\n",
       "      <td>435.000000</td>\n",
       "      <td>1166.000000</td>\n",
       "      <td>409.000000</td>\n",
       "      <td>3.534800</td>\n",
       "      <td>179700.000000</td>\n",
       "    </tr>\n",
       "    <tr>\n",
       "      <th>75%</th>\n",
       "      <td>37.000000</td>\n",
       "      <td>3148.000000</td>\n",
       "      <td>647.000000</td>\n",
       "      <td>1725.000000</td>\n",
       "      <td>605.000000</td>\n",
       "      <td>4.743250</td>\n",
       "      <td>264725.000000</td>\n",
       "    </tr>\n",
       "    <tr>\n",
       "      <th>max</th>\n",
       "      <td>52.000000</td>\n",
       "      <td>39320.000000</td>\n",
       "      <td>6445.000000</td>\n",
       "      <td>35682.000000</td>\n",
       "      <td>6082.000000</td>\n",
       "      <td>15.000100</td>\n",
       "      <td>500001.000000</td>\n",
       "    </tr>\n",
       "  </tbody>\n",
       "</table>\n",
       "</div>"
      ],
      "text/plain": [
       "       housingMedianAge    totalRooms  totalBedrooms    population  \\\n",
       "count      20640.000000  20640.000000   20640.000000  20640.000000   \n",
       "mean          28.639486   2635.763081     537.898014   1425.476744   \n",
       "std           12.585558   2181.615252     421.247906   1132.462122   \n",
       "min            1.000000      2.000000       1.000000      3.000000   \n",
       "25%           18.000000   1447.750000     295.000000    787.000000   \n",
       "50%           29.000000   2127.000000     435.000000   1166.000000   \n",
       "75%           37.000000   3148.000000     647.000000   1725.000000   \n",
       "max           52.000000  39320.000000    6445.000000  35682.000000   \n",
       "\n",
       "         households  medianIncome  medianHouseValue  \n",
       "count  20640.000000  20640.000000      20640.000000  \n",
       "mean     499.539680      3.870671     206855.816909  \n",
       "std      382.329753      1.899822     115395.615874  \n",
       "min        1.000000      0.499900      14999.000000  \n",
       "25%      280.000000      2.563400     119600.000000  \n",
       "50%      409.000000      3.534800     179700.000000  \n",
       "75%      605.000000      4.743250     264725.000000  \n",
       "max     6082.000000     15.000100     500001.000000  "
      ]
     },
     "execution_count": 4,
     "metadata": {},
     "output_type": "execute_result"
    }
   ],
   "source": [
    "my_data.describe()"
   ]
  },
  {
   "cell_type": "markdown",
   "metadata": {},
   "source": [
    "#### Split data"
   ]
  },
  {
   "cell_type": "code",
   "execution_count": 8,
   "metadata": {},
   "outputs": [
    {
     "data": {
      "text/plain": [
       "Index(['housingMedianAge', 'totalRooms', 'totalBedrooms', 'population',\n",
       "       'households', 'medianIncome', 'medianHouseValue'],\n",
       "      dtype='object')"
      ]
     },
     "execution_count": 8,
     "metadata": {},
     "output_type": "execute_result"
    }
   ],
   "source": [
    "my_data.columns"
   ]
  },
  {
   "cell_type": "code",
   "execution_count": 9,
   "metadata": {},
   "outputs": [],
   "source": [
    "x_data = my_data[['housingMedianAge', 'totalRooms', 'totalBedrooms', 'population',\n",
    "       'households', 'medianIncome']]\n",
    "# alsa works x_data = my_data.drop('medianHouseValue',axis=1)\n",
    "y_data = my_data['medianHouseValue']"
   ]
  },
  {
   "cell_type": "code",
   "execution_count": 10,
   "metadata": {
    "collapsed": true
   },
   "outputs": [],
   "source": [
    " X_train, X_test, y_train, y_test = train_test_split(x_data,y_data,\n",
    "                                                     test_size=0.3,\n",
    "                                                     random_state=101)"
   ]
  },
  {
   "cell_type": "markdown",
   "metadata": {},
   "source": [
    "#### Scale train data"
   ]
  },
  {
   "cell_type": "code",
   "execution_count": 11,
   "metadata": {
    "collapsed": true
   },
   "outputs": [],
   "source": [
    "from sklearn.preprocessing import MinMaxScaler"
   ]
  },
  {
   "cell_type": "code",
   "execution_count": 12,
   "metadata": {},
   "outputs": [],
   "source": [
    "scaler = MinMaxScaler()\n",
    "scaler.fit(X_train)\n",
    "X_train = pd.DataFrame(data=scaler.transform(X_train),\n",
    "                      columns=X_train.columns,\n",
    "                      index=X_train.index)\n",
    "X_test = pd.DataFrame(data=scaler.transform(X_test),\n",
    "                     columns=X_test.columns,\n",
    "                     index=X_test.index)"
   ]
  },
  {
   "cell_type": "markdown",
   "metadata": {},
   "source": [
    "#### Define feature columns"
   ]
  },
  {
   "cell_type": "code",
   "execution_count": 13,
   "metadata": {},
   "outputs": [
    {
     "data": {
      "text/plain": [
       "[_NumericColumn(key='totalRooms', shape=(1,), default_value=None, dtype=tf.float32, normalizer_fn=None),\n",
       " _NumericColumn(key='medianIncome', shape=(1,), default_value=None, dtype=tf.float32, normalizer_fn=None),\n",
       " _NumericColumn(key='housingMedianAge', shape=(1,), default_value=None, dtype=tf.float32, normalizer_fn=None),\n",
       " _NumericColumn(key='totalBedrooms', shape=(1,), default_value=None, dtype=tf.float32, normalizer_fn=None),\n",
       " _NumericColumn(key='households', shape=(1,), default_value=None, dtype=tf.float32, normalizer_fn=None),\n",
       " _NumericColumn(key='population', shape=(1,), default_value=None, dtype=tf.float32, normalizer_fn=None)]"
      ]
     },
     "execution_count": 13,
     "metadata": {},
     "output_type": "execute_result"
    }
   ],
   "source": [
    "feat_cols_dict = {}\n",
    "for i in x_data.columns:\n",
    "     feat_cols_dict[\"{0}\".format(i)] = tf.feature_column.numeric_column(\"{0}\".format(i))\n",
    "feat_cols = [feat_cols_dict[x] for x in feat_cols_dict.keys()]\n",
    "feat_cols"
   ]
  },
  {
   "cell_type": "markdown",
   "metadata": {},
   "source": [
    "#### Creating and training the model"
   ]
  },
  {
   "cell_type": "code",
   "execution_count": 14,
   "metadata": {
    "collapsed": true
   },
   "outputs": [],
   "source": [
    "input_func = tf.estimator.inputs.pandas_input_fn(x=X_train, y=y_train,\n",
    "                                                batch_size=10,\n",
    "                                                num_epochs=1000,\n",
    "                                                shuffle=True)"
   ]
  },
  {
   "cell_type": "code",
   "execution_count": 15,
   "metadata": {},
   "outputs": [
    {
     "name": "stdout",
     "output_type": "stream",
     "text": [
      "INFO:tensorflow:Using default config.\n",
      "WARNING:tensorflow:Using temporary folder as model directory: C:\\Users\\Charles\\AppData\\Local\\Temp\\tmpploaqfz3\n",
      "INFO:tensorflow:Using config: {'_num_worker_replicas': 1, '_keep_checkpoint_every_n_hours': 10000, '_model_dir': 'C:\\\\Users\\\\Charles\\\\AppData\\\\Local\\\\Temp\\\\tmpploaqfz3', '_num_ps_replicas': 0, '_save_checkpoints_secs': 600, '_log_step_count_steps': 100, '_is_chief': True, '_session_config': None, '_cluster_spec': <tensorflow.python.training.server_lib.ClusterSpec object at 0x000001345BB003C8>, '_save_summary_steps': 100, '_task_id': 0, '_master': '', '_task_type': 'worker', '_tf_random_seed': None, '_save_checkpoints_steps': None, '_service': None, '_keep_checkpoint_max': 5}\n"
     ]
    }
   ],
   "source": [
    "model = tf.estimator.DNNRegressor(feature_columns=feat_cols,\n",
    "                                   hidden_units=[6,6,6])"
   ]
  },
  {
   "cell_type": "code",
   "execution_count": 17,
   "metadata": {},
   "outputs": [
    {
     "name": "stdout",
     "output_type": "stream",
     "text": [
      "INFO:tensorflow:Create CheckpointSaverHook.\n",
      "INFO:tensorflow:Restoring parameters from C:\\Users\\Charles\\AppData\\Local\\Temp\\tmpploaqfz3\\model.ckpt-1000\n",
      "INFO:tensorflow:Saving checkpoints for 1001 into C:\\Users\\Charles\\AppData\\Local\\Temp\\tmpploaqfz3\\model.ckpt.\n",
      "INFO:tensorflow:step = 1001, loss = 1.71684e+11\n",
      "INFO:tensorflow:global_step/sec: 461.732\n",
      "INFO:tensorflow:step = 1101, loss = 6.23708e+10 (0.219 sec)\n",
      "INFO:tensorflow:global_step/sec: 579.848\n",
      "INFO:tensorflow:step = 1201, loss = 7.89079e+10 (0.180 sec)\n",
      "INFO:tensorflow:global_step/sec: 561.884\n",
      "INFO:tensorflow:step = 1301, loss = 1.20869e+11 (0.170 sec)\n",
      "INFO:tensorflow:global_step/sec: 631.23\n",
      "INFO:tensorflow:step = 1401, loss = 8.14692e+10 (0.157 sec)\n",
      "INFO:tensorflow:global_step/sec: 565.065\n",
      "INFO:tensorflow:step = 1501, loss = 1.44584e+11 (0.179 sec)\n",
      "INFO:tensorflow:global_step/sec: 566.673\n",
      "INFO:tensorflow:step = 1601, loss = 6.91683e+10 (0.175 sec)\n",
      "INFO:tensorflow:global_step/sec: 599\n",
      "INFO:tensorflow:step = 1701, loss = 1.50554e+11 (0.166 sec)\n",
      "INFO:tensorflow:global_step/sec: 613.751\n",
      "INFO:tensorflow:step = 1801, loss = 1.52119e+11 (0.170 sec)\n",
      "INFO:tensorflow:global_step/sec: 558.733\n",
      "INFO:tensorflow:step = 1901, loss = 2.22774e+11 (0.176 sec)\n",
      "INFO:tensorflow:global_step/sec: 547.994\n",
      "INFO:tensorflow:step = 2001, loss = 4.90081e+10 (0.183 sec)\n",
      "INFO:tensorflow:global_step/sec: 569.906\n",
      "INFO:tensorflow:step = 2101, loss = 3.13966e+10 (0.170 sec)\n",
      "INFO:tensorflow:global_step/sec: 631.228\n",
      "INFO:tensorflow:step = 2201, loss = 1.88381e+11 (0.159 sec)\n",
      "INFO:tensorflow:global_step/sec: 557.175\n",
      "INFO:tensorflow:step = 2301, loss = 1.18553e+11 (0.185 sec)\n",
      "INFO:tensorflow:global_step/sec: 583.244\n",
      "INFO:tensorflow:step = 2401, loss = 1.20937e+11 (0.169 sec)\n",
      "INFO:tensorflow:global_step/sec: 606.287\n",
      "INFO:tensorflow:step = 2501, loss = 1.60842e+11 (0.161 sec)\n",
      "INFO:tensorflow:global_step/sec: 557.155\n",
      "INFO:tensorflow:step = 2601, loss = 5.97193e+10 (0.184 sec)\n",
      "INFO:tensorflow:global_step/sec: 577.488\n",
      "INFO:tensorflow:step = 2701, loss = 1.31789e+11 (0.169 sec)\n",
      "INFO:tensorflow:global_step/sec: 560.258\n",
      "INFO:tensorflow:step = 2801, loss = 7.20822e+10 (0.180 sec)\n",
      "INFO:tensorflow:global_step/sec: 424.295\n",
      "INFO:tensorflow:step = 2901, loss = 8.80444e+10 (0.234 sec)\n",
      "INFO:tensorflow:global_step/sec: 413.88\n",
      "INFO:tensorflow:step = 3001, loss = 9.74267e+10 (0.250 sec)\n",
      "INFO:tensorflow:global_step/sec: 411.247\n",
      "INFO:tensorflow:step = 3101, loss = 1.47186e+11 (0.244 sec)\n",
      "INFO:tensorflow:global_step/sec: 473.813\n",
      "INFO:tensorflow:step = 3201, loss = 9.06144e+10 (0.208 sec)\n",
      "INFO:tensorflow:global_step/sec: 531.803\n",
      "INFO:tensorflow:step = 3301, loss = 7.39632e+10 (0.183 sec)\n",
      "INFO:tensorflow:global_step/sec: 643.409\n",
      "INFO:tensorflow:step = 3401, loss = 1.22477e+11 (0.153 sec)\n",
      "INFO:tensorflow:global_step/sec: 621.363\n",
      "INFO:tensorflow:step = 3501, loss = 5.40505e+10 (0.160 sec)\n",
      "INFO:tensorflow:global_step/sec: 651.719\n",
      "INFO:tensorflow:step = 3601, loss = 3.98709e+10 (0.154 sec)\n",
      "INFO:tensorflow:global_step/sec: 653.94\n",
      "INFO:tensorflow:step = 3701, loss = 4.25071e+10 (0.154 sec)\n",
      "INFO:tensorflow:global_step/sec: 611.77\n",
      "INFO:tensorflow:step = 3801, loss = 2.12941e+10 (0.165 sec)\n",
      "INFO:tensorflow:global_step/sec: 627.179\n",
      "INFO:tensorflow:step = 3901, loss = 1.78331e+11 (0.156 sec)\n",
      "INFO:tensorflow:global_step/sec: 627.227\n",
      "INFO:tensorflow:step = 4001, loss = 2.11748e+11 (0.159 sec)\n",
      "INFO:tensorflow:global_step/sec: 628.448\n",
      "INFO:tensorflow:step = 4101, loss = 1.42708e+11 (0.159 sec)\n",
      "INFO:tensorflow:global_step/sec: 641.33\n",
      "INFO:tensorflow:step = 4201, loss = 4.79573e+10 (0.158 sec)\n",
      "INFO:tensorflow:global_step/sec: 629.987\n",
      "INFO:tensorflow:step = 4301, loss = 9.13612e+10 (0.156 sec)\n",
      "INFO:tensorflow:global_step/sec: 648.784\n",
      "INFO:tensorflow:step = 4401, loss = 3.86062e+10 (0.159 sec)\n",
      "INFO:tensorflow:global_step/sec: 590.103\n",
      "INFO:tensorflow:step = 4501, loss = 7.69618e+10 (0.165 sec)\n",
      "INFO:tensorflow:global_step/sec: 608.965\n",
      "INFO:tensorflow:step = 4601, loss = 8.90725e+10 (0.171 sec)\n",
      "INFO:tensorflow:global_step/sec: 431.725\n",
      "INFO:tensorflow:step = 4701, loss = 9.27978e+10 (0.233 sec)\n",
      "INFO:tensorflow:global_step/sec: 522.126\n",
      "INFO:tensorflow:step = 4801, loss = 3.29365e+10 (0.187 sec)\n",
      "INFO:tensorflow:global_step/sec: 608.726\n",
      "INFO:tensorflow:step = 4901, loss = 1.0391e+11 (0.163 sec)\n",
      "INFO:tensorflow:global_step/sec: 602.585\n",
      "INFO:tensorflow:step = 5001, loss = 5.22596e+10 (0.165 sec)\n",
      "INFO:tensorflow:global_step/sec: 561.857\n",
      "INFO:tensorflow:step = 5101, loss = 1.27711e+11 (0.176 sec)\n",
      "INFO:tensorflow:global_step/sec: 636.635\n",
      "INFO:tensorflow:step = 5201, loss = 6.83601e+10 (0.162 sec)\n",
      "INFO:tensorflow:global_step/sec: 591.754\n",
      "INFO:tensorflow:step = 5301, loss = 8.86937e+10 (0.164 sec)\n",
      "INFO:tensorflow:global_step/sec: 479.266\n",
      "INFO:tensorflow:step = 5401, loss = 1.00664e+11 (0.216 sec)\n",
      "INFO:tensorflow:global_step/sec: 429.75\n",
      "INFO:tensorflow:step = 5501, loss = 1.31877e+11 (0.228 sec)\n",
      "INFO:tensorflow:global_step/sec: 440.139\n",
      "INFO:tensorflow:step = 5601, loss = 6.88622e+10 (0.226 sec)\n",
      "INFO:tensorflow:global_step/sec: 468.139\n",
      "INFO:tensorflow:step = 5701, loss = 1.40528e+11 (0.219 sec)\n",
      "INFO:tensorflow:global_step/sec: 462.723\n",
      "INFO:tensorflow:step = 5801, loss = 2.2611e+11 (0.222 sec)\n",
      "INFO:tensorflow:global_step/sec: 430.751\n",
      "INFO:tensorflow:step = 5901, loss = 6.7891e+10 (0.228 sec)\n",
      "INFO:tensorflow:global_step/sec: 428.016\n",
      "INFO:tensorflow:step = 6001, loss = 8.39356e+10 (0.232 sec)\n",
      "INFO:tensorflow:global_step/sec: 475.341\n",
      "INFO:tensorflow:step = 6101, loss = 1.46405e+11 (0.206 sec)\n",
      "INFO:tensorflow:global_step/sec: 590.676\n",
      "INFO:tensorflow:step = 6201, loss = 8.96892e+10 (0.170 sec)\n",
      "INFO:tensorflow:global_step/sec: 637.24\n",
      "INFO:tensorflow:step = 6301, loss = 1.65127e+11 (0.154 sec)\n",
      "INFO:tensorflow:global_step/sec: 638.168\n",
      "INFO:tensorflow:step = 6401, loss = 2.53377e+10 (0.156 sec)\n",
      "INFO:tensorflow:global_step/sec: 656.096\n",
      "INFO:tensorflow:step = 6501, loss = 5.26222e+10 (0.154 sec)\n",
      "INFO:tensorflow:global_step/sec: 563.454\n",
      "INFO:tensorflow:step = 6601, loss = 7.31444e+10 (0.179 sec)\n",
      "INFO:tensorflow:global_step/sec: 457.44\n",
      "INFO:tensorflow:step = 6701, loss = 8.02634e+10 (0.220 sec)\n",
      "INFO:tensorflow:global_step/sec: 451.251\n",
      "INFO:tensorflow:step = 6801, loss = 5.06995e+10 (0.225 sec)\n",
      "INFO:tensorflow:global_step/sec: 498.642\n",
      "INFO:tensorflow:step = 6901, loss = 1.48785e+11 (0.193 sec)\n",
      "INFO:tensorflow:global_step/sec: 623.319\n",
      "INFO:tensorflow:step = 7001, loss = 1.07069e+11 (0.162 sec)\n",
      "INFO:tensorflow:global_step/sec: 617.048\n",
      "INFO:tensorflow:step = 7101, loss = 1.04547e+11 (0.160 sec)\n",
      "INFO:tensorflow:global_step/sec: 583.201\n",
      "INFO:tensorflow:step = 7201, loss = 1.13399e+11 (0.172 sec)\n",
      "INFO:tensorflow:global_step/sec: 632.463\n",
      "INFO:tensorflow:step = 7301, loss = 3.93825e+10 (0.159 sec)\n",
      "INFO:tensorflow:global_step/sec: 620.112\n",
      "INFO:tensorflow:step = 7401, loss = 5.31853e+10 (0.159 sec)\n",
      "INFO:tensorflow:global_step/sec: 617.508\n",
      "INFO:tensorflow:step = 7501, loss = 1.249e+11 (0.162 sec)\n",
      "INFO:tensorflow:global_step/sec: 575.535\n",
      "INFO:tensorflow:step = 7601, loss = 5.61692e+10 (0.174 sec)\n",
      "INFO:tensorflow:global_step/sec: 619.428\n",
      "INFO:tensorflow:step = 7701, loss = 3.27491e+10 (0.160 sec)\n",
      "INFO:tensorflow:global_step/sec: 669.339\n",
      "INFO:tensorflow:step = 7801, loss = 2.12933e+11 (0.156 sec)\n",
      "INFO:tensorflow:global_step/sec: 447.205\n",
      "INFO:tensorflow:step = 7901, loss = 1.16433e+11 (0.220 sec)\n",
      "INFO:tensorflow:global_step/sec: 409.081\n",
      "INFO:tensorflow:step = 8001, loss = 7.10004e+10 (0.244 sec)\n",
      "INFO:tensorflow:global_step/sec: 525.708\n",
      "INFO:tensorflow:step = 8101, loss = 1.16877e+11 (0.192 sec)\n",
      "INFO:tensorflow:global_step/sec: 479.46\n",
      "INFO:tensorflow:step = 8201, loss = 1.18035e+11 (0.215 sec)\n",
      "INFO:tensorflow:global_step/sec: 496.131\n",
      "INFO:tensorflow:step = 8301, loss = 1.09496e+11 (0.193 sec)\n",
      "INFO:tensorflow:global_step/sec: 576.767\n",
      "INFO:tensorflow:step = 8401, loss = 9.53832e+10 (0.175 sec)\n",
      "INFO:tensorflow:global_step/sec: 433.564\n",
      "INFO:tensorflow:step = 8501, loss = 1.99381e+11 (0.232 sec)\n",
      "INFO:tensorflow:global_step/sec: 550.886\n",
      "INFO:tensorflow:step = 8601, loss = 8.61221e+10 (0.178 sec)\n",
      "INFO:tensorflow:global_step/sec: 611.828\n",
      "INFO:tensorflow:step = 8701, loss = 1.42223e+11 (0.164 sec)\n",
      "INFO:tensorflow:global_step/sec: 600.773\n",
      "INFO:tensorflow:step = 8801, loss = 1.30914e+11 (0.167 sec)\n",
      "INFO:tensorflow:global_step/sec: 621.136\n"
     ]
    },
    {
     "name": "stdout",
     "output_type": "stream",
     "text": [
      "INFO:tensorflow:step = 8901, loss = 6.48408e+10 (0.162 sec)\n",
      "INFO:tensorflow:global_step/sec: 628.516\n",
      "INFO:tensorflow:step = 9001, loss = 1.27049e+11 (0.156 sec)\n",
      "INFO:tensorflow:global_step/sec: 475.986\n",
      "INFO:tensorflow:step = 9101, loss = 3.2911e+10 (0.216 sec)\n",
      "INFO:tensorflow:global_step/sec: 406.977\n",
      "INFO:tensorflow:step = 9201, loss = 5.46284e+10 (0.245 sec)\n",
      "INFO:tensorflow:global_step/sec: 406.221\n",
      "INFO:tensorflow:step = 9301, loss = 1.55997e+11 (0.250 sec)\n",
      "INFO:tensorflow:global_step/sec: 412.637\n",
      "INFO:tensorflow:step = 9401, loss = 2.51117e+11 (0.243 sec)\n",
      "INFO:tensorflow:global_step/sec: 391.088\n",
      "INFO:tensorflow:step = 9501, loss = 1.19345e+11 (0.251 sec)\n",
      "INFO:tensorflow:global_step/sec: 412.026\n",
      "INFO:tensorflow:step = 9601, loss = 4.87329e+10 (0.242 sec)\n",
      "INFO:tensorflow:global_step/sec: 415.536\n",
      "INFO:tensorflow:step = 9701, loss = 5.67215e+10 (0.247 sec)\n",
      "INFO:tensorflow:global_step/sec: 380.628\n",
      "INFO:tensorflow:step = 9801, loss = 8.38464e+10 (0.257 sec)\n",
      "INFO:tensorflow:global_step/sec: 405.392\n",
      "INFO:tensorflow:step = 9901, loss = 4.78002e+10 (0.247 sec)\n",
      "INFO:tensorflow:global_step/sec: 491.269\n",
      "INFO:tensorflow:step = 10001, loss = 1.29212e+11 (0.202 sec)\n",
      "INFO:tensorflow:global_step/sec: 597.166\n",
      "INFO:tensorflow:step = 10101, loss = 4.92629e+10 (0.167 sec)\n",
      "INFO:tensorflow:global_step/sec: 632.382\n",
      "INFO:tensorflow:step = 10201, loss = 8.71994e+10 (0.157 sec)\n",
      "INFO:tensorflow:global_step/sec: 671.124\n",
      "INFO:tensorflow:step = 10301, loss = 1.35891e+11 (0.150 sec)\n",
      "INFO:tensorflow:global_step/sec: 597.176\n",
      "INFO:tensorflow:step = 10401, loss = 4.18143e+10 (0.166 sec)\n",
      "INFO:tensorflow:global_step/sec: 660.46\n",
      "INFO:tensorflow:step = 10501, loss = 7.97425e+10 (0.151 sec)\n",
      "INFO:tensorflow:global_step/sec: 641.335\n",
      "INFO:tensorflow:step = 10601, loss = 4.24876e+10 (0.156 sec)\n",
      "INFO:tensorflow:global_step/sec: 572.848\n",
      "INFO:tensorflow:step = 10701, loss = 1.02986e+11 (0.176 sec)\n",
      "INFO:tensorflow:global_step/sec: 515.402\n",
      "INFO:tensorflow:step = 10801, loss = 1.12941e+11 (0.194 sec)\n",
      "INFO:tensorflow:global_step/sec: 443.596\n",
      "INFO:tensorflow:step = 10901, loss = 4.32163e+10 (0.234 sec)\n",
      "INFO:tensorflow:global_step/sec: 405.392\n",
      "INFO:tensorflow:step = 11001, loss = 1.16203e+11 (0.240 sec)\n",
      "INFO:tensorflow:global_step/sec: 611.856\n",
      "INFO:tensorflow:step = 11101, loss = 6.29338e+10 (0.163 sec)\n",
      "INFO:tensorflow:global_step/sec: 665.517\n",
      "INFO:tensorflow:step = 11201, loss = 1.63161e+11 (0.149 sec)\n",
      "INFO:tensorflow:global_step/sec: 632.827\n",
      "INFO:tensorflow:step = 11301, loss = 1.1255e+11 (0.156 sec)\n",
      "INFO:tensorflow:global_step/sec: 652.269\n",
      "INFO:tensorflow:step = 11401, loss = 9.56596e+10 (0.155 sec)\n",
      "INFO:tensorflow:global_step/sec: 664.844\n",
      "INFO:tensorflow:step = 11501, loss = 7.6498e+10 (0.151 sec)\n",
      "INFO:tensorflow:global_step/sec: 443.132\n",
      "INFO:tensorflow:step = 11601, loss = 4.92242e+10 (0.226 sec)\n",
      "INFO:tensorflow:global_step/sec: 453.244\n",
      "INFO:tensorflow:step = 11701, loss = 7.00599e+10 (0.223 sec)\n",
      "INFO:tensorflow:global_step/sec: 446.104\n",
      "INFO:tensorflow:step = 11801, loss = 1.0577e+11 (0.223 sec)\n",
      "INFO:tensorflow:global_step/sec: 515.29\n",
      "INFO:tensorflow:step = 11901, loss = 1.00327e+11 (0.193 sec)\n",
      "INFO:tensorflow:global_step/sec: 468.121\n",
      "INFO:tensorflow:step = 12001, loss = 8.48269e+10 (0.215 sec)\n",
      "INFO:tensorflow:global_step/sec: 583.225\n",
      "INFO:tensorflow:step = 12101, loss = 9.98025e+10 (0.170 sec)\n",
      "INFO:tensorflow:global_step/sec: 615.595\n",
      "INFO:tensorflow:step = 12201, loss = 9.59209e+10 (0.162 sec)\n",
      "INFO:tensorflow:global_step/sec: 598.053\n",
      "INFO:tensorflow:step = 12301, loss = 2.17383e+11 (0.164 sec)\n",
      "INFO:tensorflow:global_step/sec: 593.637\n",
      "INFO:tensorflow:step = 12401, loss = 8.64258e+10 (0.168 sec)\n",
      "INFO:tensorflow:global_step/sec: 647.579\n",
      "INFO:tensorflow:step = 12501, loss = 1.13536e+11 (0.154 sec)\n",
      "INFO:tensorflow:global_step/sec: 636.48\n",
      "INFO:tensorflow:step = 12601, loss = 1.10864e+11 (0.158 sec)\n",
      "INFO:tensorflow:global_step/sec: 635.203\n",
      "INFO:tensorflow:step = 12701, loss = 8.61518e+10 (0.159 sec)\n",
      "INFO:tensorflow:global_step/sec: 539.035\n",
      "INFO:tensorflow:step = 12801, loss = 1.81153e+11 (0.195 sec)\n",
      "INFO:tensorflow:global_step/sec: 487.531\n",
      "INFO:tensorflow:step = 12901, loss = 6.3234e+10 (0.195 sec)\n",
      "INFO:tensorflow:global_step/sec: 441.273\n",
      "INFO:tensorflow:step = 13001, loss = 6.36851e+10 (0.233 sec)\n",
      "INFO:tensorflow:global_step/sec: 435.409\n",
      "INFO:tensorflow:step = 13101, loss = 1.115e+11 (0.226 sec)\n",
      "INFO:tensorflow:global_step/sec: 430.099\n",
      "INFO:tensorflow:step = 13201, loss = 1.24971e+11 (0.234 sec)\n",
      "INFO:tensorflow:global_step/sec: 453.304\n",
      "INFO:tensorflow:step = 13301, loss = 8.69133e+10 (0.217 sec)\n",
      "INFO:tensorflow:global_step/sec: 555.167\n",
      "INFO:tensorflow:step = 13401, loss = 8.90707e+10 (0.182 sec)\n",
      "INFO:tensorflow:global_step/sec: 632.999\n",
      "INFO:tensorflow:step = 13501, loss = 1.26117e+11 (0.157 sec)\n",
      "INFO:tensorflow:global_step/sec: 627.205\n",
      "INFO:tensorflow:step = 13601, loss = 1.54381e+11 (0.159 sec)\n",
      "INFO:tensorflow:global_step/sec: 630.701\n",
      "INFO:tensorflow:step = 13701, loss = 1.0074e+11 (0.159 sec)\n",
      "INFO:tensorflow:global_step/sec: 592.797\n",
      "INFO:tensorflow:step = 13801, loss = 1.3131e+11 (0.167 sec)\n",
      "INFO:tensorflow:global_step/sec: 524.882\n",
      "INFO:tensorflow:step = 13901, loss = 1.35029e+11 (0.198 sec)\n",
      "INFO:tensorflow:global_step/sec: 611.82\n",
      "INFO:tensorflow:step = 14001, loss = 7.28e+10 (0.156 sec)\n",
      "INFO:tensorflow:global_step/sec: 651.834\n",
      "INFO:tensorflow:step = 14101, loss = 1.45419e+11 (0.154 sec)\n",
      "INFO:tensorflow:global_step/sec: 465.992\n",
      "INFO:tensorflow:step = 14201, loss = 1.03367e+11 (0.215 sec)\n",
      "INFO:tensorflow:global_step/sec: 557.14\n",
      "INFO:tensorflow:step = 14301, loss = 5.40816e+10 (0.179 sec)\n",
      "INFO:tensorflow:global_step/sec: 454.255\n",
      "INFO:tensorflow:step = 14401, loss = 1.36406e+11 (0.223 sec)\n",
      "INFO:tensorflow:global_step/sec: 428.008\n",
      "INFO:tensorflow:step = 14501, loss = 2.06027e+11 (0.231 sec)\n",
      "INFO:tensorflow:global_step/sec: 421.659\n",
      "INFO:tensorflow:step = 14601, loss = 1.70494e+11 (0.243 sec)\n",
      "INFO:tensorflow:global_step/sec: 388.034\n",
      "INFO:tensorflow:step = 14701, loss = 5.18606e+10 (0.258 sec)\n",
      "INFO:tensorflow:global_step/sec: 481.733\n",
      "INFO:tensorflow:step = 14801, loss = 1.15683e+11 (0.210 sec)\n",
      "INFO:tensorflow:global_step/sec: 544.908\n",
      "INFO:tensorflow:step = 14901, loss = 1.30919e+11 (0.182 sec)\n",
      "INFO:tensorflow:global_step/sec: 566.64\n",
      "INFO:tensorflow:step = 15001, loss = 1.65635e+11 (0.175 sec)\n",
      "INFO:tensorflow:global_step/sec: 600.769\n",
      "INFO:tensorflow:step = 15101, loss = 6.70208e+10 (0.162 sec)\n",
      "INFO:tensorflow:global_step/sec: 664.868\n",
      "INFO:tensorflow:step = 15201, loss = 1.22786e+11 (0.152 sec)\n",
      "INFO:tensorflow:global_step/sec: 591.188\n",
      "INFO:tensorflow:step = 15301, loss = 9.67407e+10 (0.168 sec)\n",
      "INFO:tensorflow:global_step/sec: 456.076\n",
      "INFO:tensorflow:step = 15401, loss = 5.13256e+10 (0.223 sec)\n",
      "INFO:tensorflow:global_step/sec: 422.568\n",
      "INFO:tensorflow:step = 15501, loss = 1.30071e+11 (0.240 sec)\n",
      "INFO:tensorflow:global_step/sec: 398.902\n",
      "INFO:tensorflow:step = 15601, loss = 3.23782e+10 (0.247 sec)\n",
      "INFO:tensorflow:global_step/sec: 506.236\n",
      "INFO:tensorflow:step = 15701, loss = 1.24093e+11 (0.199 sec)\n",
      "INFO:tensorflow:global_step/sec: 516.66\n",
      "INFO:tensorflow:step = 15801, loss = 1.90657e+11 (0.199 sec)\n",
      "INFO:tensorflow:global_step/sec: 393.399\n",
      "INFO:tensorflow:step = 15901, loss = 6.74355e+10 (0.252 sec)\n",
      "INFO:tensorflow:global_step/sec: 442.285\n",
      "INFO:tensorflow:step = 16001, loss = 5.68871e+10 (0.224 sec)\n",
      "INFO:tensorflow:global_step/sec: 415.66\n",
      "INFO:tensorflow:step = 16101, loss = 1.27787e+11 (0.235 sec)\n",
      "INFO:tensorflow:global_step/sec: 573.151\n",
      "INFO:tensorflow:step = 16201, loss = 1.4016e+11 (0.174 sec)\n",
      "INFO:tensorflow:global_step/sec: 623.319\n",
      "INFO:tensorflow:step = 16301, loss = 8.55567e+10 (0.162 sec)\n",
      "INFO:tensorflow:global_step/sec: 530.592\n",
      "INFO:tensorflow:step = 16401, loss = 1.01544e+11 (0.193 sec)\n",
      "INFO:tensorflow:global_step/sec: 498.638\n",
      "INFO:tensorflow:step = 16501, loss = 7.19054e+10 (0.212 sec)\n",
      "INFO:tensorflow:global_step/sec: 437.354\n",
      "INFO:tensorflow:step = 16601, loss = 6.52397e+10 (0.221 sec)\n",
      "INFO:tensorflow:global_step/sec: 443.971\n",
      "INFO:tensorflow:step = 16701, loss = 7.6866e+10 (0.218 sec)\n",
      "INFO:tensorflow:global_step/sec: 443.239\n",
      "INFO:tensorflow:step = 16801, loss = 8.27057e+10 (0.227 sec)\n",
      "INFO:tensorflow:global_step/sec: 446.346\n",
      "INFO:tensorflow:step = 16901, loss = 6.87346e+10 (0.222 sec)\n",
      "INFO:tensorflow:global_step/sec: 466.606\n"
     ]
    },
    {
     "name": "stdout",
     "output_type": "stream",
     "text": [
      "INFO:tensorflow:step = 17001, loss = 1.08183e+11 (0.220 sec)\n",
      "INFO:tensorflow:global_step/sec: 594.002\n",
      "INFO:tensorflow:step = 17101, loss = 4.57321e+10 (0.165 sec)\n",
      "INFO:tensorflow:global_step/sec: 412.311\n",
      "INFO:tensorflow:step = 17201, loss = 9.30319e+10 (0.243 sec)\n",
      "INFO:tensorflow:global_step/sec: 482.462\n",
      "INFO:tensorflow:step = 17301, loss = 8.65031e+10 (0.207 sec)\n",
      "INFO:tensorflow:global_step/sec: 398.871\n",
      "INFO:tensorflow:step = 17401, loss = 1.55119e+11 (0.261 sec)\n",
      "INFO:tensorflow:global_step/sec: 387.963\n",
      "INFO:tensorflow:step = 17501, loss = 1.13341e+11 (0.253 sec)\n",
      "INFO:tensorflow:global_step/sec: 400.845\n",
      "INFO:tensorflow:step = 17601, loss = 7.05846e+10 (0.244 sec)\n",
      "INFO:tensorflow:global_step/sec: 447.971\n",
      "INFO:tensorflow:step = 17701, loss = 7.59603e+10 (0.225 sec)\n",
      "INFO:tensorflow:global_step/sec: 488.838\n",
      "INFO:tensorflow:step = 17801, loss = 7.93364e+10 (0.208 sec)\n",
      "INFO:tensorflow:global_step/sec: 403.694\n",
      "INFO:tensorflow:step = 17901, loss = 1.28012e+11 (0.244 sec)\n",
      "INFO:tensorflow:global_step/sec: 536.164\n",
      "INFO:tensorflow:step = 18001, loss = 1.4783e+11 (0.192 sec)\n",
      "INFO:tensorflow:global_step/sec: 407.053\n",
      "INFO:tensorflow:step = 18101, loss = 1.72722e+11 (0.243 sec)\n",
      "INFO:tensorflow:global_step/sec: 489.914\n",
      "INFO:tensorflow:step = 18201, loss = 7.47044e+10 (0.208 sec)\n",
      "INFO:tensorflow:global_step/sec: 370.729\n",
      "INFO:tensorflow:step = 18301, loss = 4.96314e+10 (0.264 sec)\n",
      "INFO:tensorflow:global_step/sec: 438.082\n",
      "INFO:tensorflow:step = 18401, loss = 6.75904e+10 (0.225 sec)\n",
      "INFO:tensorflow:global_step/sec: 554.045\n",
      "INFO:tensorflow:step = 18501, loss = 1.32959e+11 (0.179 sec)\n",
      "INFO:tensorflow:global_step/sec: 437.403\n",
      "INFO:tensorflow:step = 18601, loss = 8.48671e+10 (0.234 sec)\n",
      "INFO:tensorflow:global_step/sec: 517.571\n",
      "INFO:tensorflow:step = 18701, loss = 1.99545e+11 (0.189 sec)\n",
      "INFO:tensorflow:global_step/sec: 461.687\n",
      "INFO:tensorflow:step = 18801, loss = 1.13362e+11 (0.218 sec)\n",
      "INFO:tensorflow:global_step/sec: 554.34\n",
      "INFO:tensorflow:step = 18901, loss = 5.33875e+10 (0.182 sec)\n",
      "INFO:tensorflow:global_step/sec: 393.384\n",
      "INFO:tensorflow:step = 19001, loss = 1.03952e+11 (0.259 sec)\n",
      "INFO:tensorflow:global_step/sec: 414.984\n",
      "INFO:tensorflow:step = 19101, loss = 1.33393e+11 (0.239 sec)\n",
      "INFO:tensorflow:global_step/sec: 414.231\n",
      "INFO:tensorflow:step = 19201, loss = 1.17541e+11 (0.235 sec)\n",
      "INFO:tensorflow:global_step/sec: 449.715\n",
      "INFO:tensorflow:step = 19301, loss = 1.74579e+11 (0.228 sec)\n",
      "INFO:tensorflow:global_step/sec: 410.379\n",
      "INFO:tensorflow:step = 19401, loss = 1.59405e+11 (0.240 sec)\n",
      "INFO:tensorflow:global_step/sec: 398.277\n",
      "INFO:tensorflow:step = 19501, loss = 2.24661e+11 (0.248 sec)\n",
      "INFO:tensorflow:global_step/sec: 618.811\n",
      "INFO:tensorflow:step = 19601, loss = 1.17252e+11 (0.161 sec)\n",
      "INFO:tensorflow:global_step/sec: 623.387\n",
      "INFO:tensorflow:step = 19701, loss = 1.35277e+11 (0.161 sec)\n",
      "INFO:tensorflow:global_step/sec: 589.99\n",
      "INFO:tensorflow:step = 19801, loss = 1.85336e+11 (0.171 sec)\n",
      "INFO:tensorflow:global_step/sec: 428.851\n",
      "INFO:tensorflow:step = 19901, loss = 1.23192e+11 (0.236 sec)\n",
      "INFO:tensorflow:global_step/sec: 445.18\n",
      "INFO:tensorflow:step = 20001, loss = 6.96276e+10 (0.228 sec)\n",
      "INFO:tensorflow:global_step/sec: 464.654\n",
      "INFO:tensorflow:step = 20101, loss = 8.70004e+10 (0.212 sec)\n",
      "INFO:tensorflow:global_step/sec: 429.857\n",
      "INFO:tensorflow:step = 20201, loss = 6.29105e+10 (0.229 sec)\n",
      "INFO:tensorflow:global_step/sec: 463.836\n",
      "INFO:tensorflow:step = 20301, loss = 9.09959e+10 (0.225 sec)\n",
      "INFO:tensorflow:global_step/sec: 408.719\n",
      "INFO:tensorflow:step = 20401, loss = 3.39634e+10 (0.239 sec)\n",
      "INFO:tensorflow:global_step/sec: 447.213\n",
      "INFO:tensorflow:step = 20501, loss = 6.4289e+10 (0.220 sec)\n",
      "INFO:tensorflow:global_step/sec: 460.627\n",
      "INFO:tensorflow:step = 20601, loss = 5.57015e+10 (0.218 sec)\n",
      "INFO:tensorflow:global_step/sec: 452.998\n",
      "INFO:tensorflow:step = 20701, loss = 4.46821e+10 (0.228 sec)\n",
      "INFO:tensorflow:global_step/sec: 474.879\n",
      "INFO:tensorflow:step = 20801, loss = 7.69274e+10 (0.202 sec)\n",
      "INFO:tensorflow:global_step/sec: 427.981\n",
      "INFO:tensorflow:step = 20901, loss = 6.19521e+10 (0.235 sec)\n",
      "INFO:tensorflow:Saving checkpoints for 21000 into C:\\Users\\Charles\\AppData\\Local\\Temp\\tmpploaqfz3\\model.ckpt.\n",
      "INFO:tensorflow:Loss for final step: 5.99794e+10.\n"
     ]
    },
    {
     "data": {
      "text/plain": [
       "<tensorflow.python.estimator.canned.dnn.DNNRegressor at 0x13461381208>"
      ]
     },
     "execution_count": 17,
     "metadata": {},
     "output_type": "execute_result"
    }
   ],
   "source": [
    "model.train(input_fn=input_func,steps=20000)"
   ]
  },
  {
   "cell_type": "markdown",
   "metadata": {},
   "source": [
    "#### Evaluating the model"
   ]
  },
  {
   "cell_type": "code",
   "execution_count": 25,
   "metadata": {
    "collapsed": true
   },
   "outputs": [],
   "source": [
    "eval_input_func = tf.estimator.inputs.pandas_input_fn(x=X_test,y=y_test,\n",
    "                                                     batch_size=5,\n",
    "                                                     num_epochs=1,\n",
    "                                                     shuffle=False)"
   ]
  },
  {
   "cell_type": "code",
   "execution_count": 26,
   "metadata": {},
   "outputs": [
    {
     "name": "stdout",
     "output_type": "stream",
     "text": [
      "INFO:tensorflow:Starting evaluation at 2017-12-13-15:24:37\n",
      "INFO:tensorflow:Restoring parameters from C:\\Users\\Charles\\AppData\\Local\\Temp\\tmpploaqfz3\\model.ckpt-21000\n",
      "INFO:tensorflow:Finished evaluation at 2017-12-13-15:24:39\n",
      "INFO:tensorflow:Saving dict for global step 21000: average_loss = 9.71588e+09, global_step = 21000, loss = 4.85559e+10\n"
     ]
    },
    {
     "data": {
      "text/plain": [
       "{'average_loss': 9.7158779e+09, 'global_step': 21000, 'loss': 4.8555864e+10}"
      ]
     },
     "execution_count": 26,
     "metadata": {},
     "output_type": "execute_result"
    }
   ],
   "source": [
    "model.evaluate(eval_input_func)"
   ]
  },
  {
   "cell_type": "markdown",
   "metadata": {},
   "source": [
    "#### Predicting with the model"
   ]
  },
  {
   "cell_type": "code",
   "execution_count": 47,
   "metadata": {
    "collapsed": true
   },
   "outputs": [],
   "source": [
    "pred_input_func = tf.estimator.inputs.pandas_input_fn(x=X_test,\n",
    "                                                     batch_size=10,\n",
    "                                                     num_epochs=1,\n",
    "                                                     shuffle=False)"
   ]
  },
  {
   "cell_type": "code",
   "execution_count": 48,
   "metadata": {
    "collapsed": true
   },
   "outputs": [],
   "source": [
    "predictions = model.predict(pred_input_func)"
   ]
  },
  {
   "cell_type": "code",
   "execution_count": 49,
   "metadata": {},
   "outputs": [
    {
     "name": "stdout",
     "output_type": "stream",
     "text": [
      "INFO:tensorflow:Restoring parameters from C:\\Users\\Charles\\AppData\\Local\\Temp\\tmpploaqfz3\\model.ckpt-21000\n"
     ]
    }
   ],
   "source": [
    "pred_list = list(predictions)"
   ]
  },
  {
   "cell_type": "code",
   "execution_count": 50,
   "metadata": {},
   "outputs": [],
   "source": [
    "final_preds = []\n",
    "for pred in pred_list:\n",
    "    final_preds.append(pred['predictions'])"
   ]
  },
  {
   "cell_type": "markdown",
   "metadata": {},
   "source": [
    "#### Computing mean squared error"
   ]
  },
  {
   "cell_type": "code",
   "execution_count": 54,
   "metadata": {
    "collapsed": true
   },
   "outputs": [],
   "source": [
    "from sklearn.metrics import mean_squared_error"
   ]
  },
  {
   "cell_type": "code",
   "execution_count": 56,
   "metadata": {},
   "outputs": [
    {
     "data": {
      "text/plain": [
       "98569.125040868879"
      ]
     },
     "execution_count": 56,
     "metadata": {},
     "output_type": "execute_result"
    }
   ],
   "source": [
    "mean_squared_error(y_test,final_preds)**0.5"
   ]
  }
 ],
 "metadata": {
  "kernelspec": {
   "display_name": "Python 3",
   "language": "python",
   "name": "python3"
  },
  "language_info": {
   "codemirror_mode": {
    "name": "ipython",
    "version": 3
   },
   "file_extension": ".py",
   "mimetype": "text/x-python",
   "name": "python",
   "nbconvert_exporter": "python",
   "pygments_lexer": "ipython3",
   "version": "3.5.0"
  }
 },
 "nbformat": 4,
 "nbformat_minor": 2
}
