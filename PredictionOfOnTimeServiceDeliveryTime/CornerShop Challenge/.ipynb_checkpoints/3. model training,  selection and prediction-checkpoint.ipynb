{
 "cells": [
  {
   "cell_type": "markdown",
   "metadata": {
    "collapsed": true
   },
   "source": [
    "# PART III: Model Training, Selection and Prediction\n",
    "\n",
    "___\n",
    "We are now ready to train our model(s). We will train and test three models:\n",
    "    1. Linear Regression with Scikit-Learn\n",
    "    2. Gradient boosting with XgBoost\n",
    "    3. Neural Network with TensorFlow"
   ]
  },
  {
   "cell_type": "code",
   "execution_count": 3,
   "metadata": {},
   "outputs": [],
   "source": [
    "# import libraries\n",
    "import pandas as pd\n",
    "import numpy as np\n",
    "import math\n",
    "from sklearn.model_selection import train_test_split\n",
    "from sklearn.preprocessing import MinMaxScaler\n",
    "from sklearn.metrics import mean_squared_error, r2_score, explained_variance_score\n",
    "import matplotlib.pyplot as plt\n",
    "import seaborn as sns\n",
    "%matplotlib inline\n",
    "sns.set();"
   ]
  },
  {
   "cell_type": "code",
   "execution_count": 4,
   "metadata": {},
   "outputs": [],
   "source": [
    "# reading data and definint training and test datasets.\n",
    "model_data = pd.read_csv('data/model_data.csv')"
   ]
  },
  {
   "cell_type": "code",
   "execution_count": 5,
   "metadata": {},
   "outputs": [],
   "source": [
    "# drop total_minutes NAs and  selecting variables with correlation >= |0.1| (check PART II)\n",
    "model_data = model_data.dropna()[['order_id','on_demand', 'total_minutes', 'number_products', 'found',\n",
    "       'sen_ADVANCED_x', 'sen_ADVANCED_y', 'order_sb_distance', 'store_1',\n",
    "       'store_2', 'store_3']]"
   ]
  },
  {
   "cell_type": "code",
   "execution_count": 6,
   "metadata": {},
   "outputs": [],
   "source": [
    "# set order_id as index\n",
    "model_data = model_data.set_index('order_id')"
   ]
  },
  {
   "cell_type": "code",
   "execution_count": 7,
   "metadata": {},
   "outputs": [],
   "source": [
    "# separate predictos and target\n",
    "X, y = model_data.drop('total_minutes', axis=1), model_data['total_minutes']\n",
    "# scale train data\n",
    "scaler = MinMaxScaler()\n",
    "scaler.fit(X)\n",
    "X = pd.DataFrame(data=scaler.transform(X),\n",
    "                      columns=X.columns,\n",
    "                      index=X.index)\n",
    "# train/test splitting\n",
    "X_train, X_test, y_train, y_test = train_test_split(X, y, test_size = 0.3)"
   ]
  },
  {
   "cell_type": "code",
   "execution_count": 8,
   "metadata": {},
   "outputs": [
    {
     "data": {
      "text/plain": [
       "(4569,)"
      ]
     },
     "execution_count": 8,
     "metadata": {},
     "output_type": "execute_result"
    }
   ],
   "source": [
    "y_train.shape"
   ]
  },
  {
   "cell_type": "markdown",
   "metadata": {},
   "source": [
    "## 1. Linear Regression"
   ]
  },
  {
   "cell_type": "code",
   "execution_count": 62,
   "metadata": {},
   "outputs": [],
   "source": [
    "# import libraries\n",
    "from sklearn.linear_model import LinearRegression"
   ]
  },
  {
   "cell_type": "code",
   "execution_count": 63,
   "metadata": {},
   "outputs": [],
   "source": [
    "# define model\n",
    "lr = LinearRegression(normalize=True)"
   ]
  },
  {
   "cell_type": "code",
   "execution_count": 64,
   "metadata": {},
   "outputs": [
    {
     "data": {
      "text/plain": [
       "LinearRegression(copy_X=True, fit_intercept=True, n_jobs=1, normalize=True)"
      ]
     },
     "execution_count": 64,
     "metadata": {},
     "output_type": "execute_result"
    }
   ],
   "source": [
    "# fit model to data \n",
    "lr.fit(X_train, y_train)"
   ]
  },
  {
   "cell_type": "code",
   "execution_count": 65,
   "metadata": {},
   "outputs": [
    {
     "data": {
      "text/plain": [
       "array([  -4.99372539,  187.76273626,    3.22143755,  -19.08730577,\n",
       "         10.37245736,   79.70827789,    6.33228321,    8.84109823,\n",
       "          9.06691392])"
      ]
     },
     "execution_count": 65,
     "metadata": {},
     "output_type": "execute_result"
    }
   ],
   "source": [
    "lr.coef_"
   ]
  },
  {
   "cell_type": "code",
   "execution_count": 66,
   "metadata": {},
   "outputs": [],
   "source": [
    "# predict on the test set\n",
    "lr_pred = lr.predict(X_test)"
   ]
  },
  {
   "cell_type": "code",
   "execution_count": 157,
   "metadata": {},
   "outputs": [
    {
     "name": "stdout",
     "output_type": "stream",
     "text": [
      "Mean Squared Error: 423.70\n",
      "Explained Variance: 0.58\n"
     ]
    }
   ],
   "source": [
    "# calculate performance messures\n",
    "lr_mse = mean_squared_error(y_test, lr_pred)\n",
    "lr_ev = explained_variance_score(y_test, lr_pred)\n",
    "print(\"Mean Squared Error: %.2f\"%lr_mse)\n",
    "print(\"Explained Variance: %.2f\"%lr_ev)"
   ]
  },
  {
   "cell_type": "code",
   "execution_count": 68,
   "metadata": {},
   "outputs": [
    {
     "data": {
      "image/png": "[encoded data removed]",
      "text/plain": [
       "<matplotlib.figure.Figure at 0x26a0003a908>"
      ]
     },
     "metadata": {},
     "output_type": "display_data"
    }
   ],
   "source": [
    "# scatter plot predicted and test target values\n",
    "lr_predictions = pd.DataFrame({'lr_pred': lr_pred, 'y_test': y_test})\n",
    "sns.regplot(x=\"y_test\", y=\"lr_pred\", data=lr_predictions);"
   ]
  },
  {
   "cell_type": "markdown",
   "metadata": {},
   "source": [
    "## 2. XGBoost"
   ]
  },
  {
   "cell_type": "code",
   "execution_count": 146,
   "metadata": {},
   "outputs": [],
   "source": [
    "# import libraries\n",
    "import xgboost"
   ]
  },
  {
   "cell_type": "code",
   "execution_count": 115,
   "metadata": {},
   "outputs": [],
   "source": [
    "# XGBoost hyperparamters tunning\n",
    "n_estimators = [50, 100, 150, 200, 250]\n",
    "max_depth = [2, 4, 6, 8, 10]\n",
    "gamma = [5, 10, 15, 20, 25]\n",
    "results = []\n",
    "for i in n_estimators:\n",
    "    for j in max_depth:\n",
    "        for k in gamma:\n",
    "            \n",
    "            xgb = xgboost.XGBRegressor(n_estimators=i, learning_rate=0.05, \n",
    "                                       gamma=k, subsample=0.75,colsample_bytree=1, max_depth=j)\n",
    "            xgb.fit(X_train,y_train)\n",
    "            xgb_pred = xgb.predict(X_test)\n",
    "            xgb_error = mean_squared_error(y_test, xgb_pred)\n",
    "            results.append([i,j,k,xgb_error])"
   ]
  },
  {
   "cell_type": "code",
   "execution_count": 127,
   "metadata": {},
   "outputs": [
    {
     "data": {
      "text/plain": [
       "n_estimators    250.000000\n",
       "max_depth         2.000000\n",
       "gamma             5.000000\n",
       "MSE             423.031314\n",
       "Name: 100, dtype: float64"
      ]
     },
     "execution_count": 127,
     "metadata": {},
     "output_type": "execute_result"
    }
   ],
   "source": [
    "# best parameter combination\n",
    "results = pd.DataFrame(results)\n",
    "results.columns = ['n_estimators', 'max_depth', 'gamma', 'MSE']\n",
    "results.iloc[results['MSE'].idxmin()]"
   ]
  },
  {
   "cell_type": "code",
   "execution_count": 134,
   "metadata": {},
   "outputs": [],
   "source": [
    "# we train model with best combination of parameters\n",
    "xgb = xgboost.XGBRegressor(n_estimators=250, learning_rate=0.05, \n",
    "                                       gamma=5, subsample=0.75,colsample_bytree=1, max_depth=2)"
   ]
  },
  {
   "cell_type": "code",
   "execution_count": 135,
   "metadata": {},
   "outputs": [
    {
     "data": {
      "text/plain": [
       "XGBRegressor(base_score=0.5, booster='gbtree', colsample_bylevel=1,\n",
       "       colsample_bytree=1, gamma=5, learning_rate=0.05, max_delta_step=0,\n",
       "       max_depth=2, min_child_weight=1, missing=None, n_estimators=250,\n",
       "       n_jobs=1, nthread=None, objective='reg:linear', random_state=0,\n",
       "       reg_alpha=0, reg_lambda=1, scale_pos_weight=1, seed=None,\n",
       "       silent=True, subsample=0.75)"
      ]
     },
     "execution_count": 135,
     "metadata": {},
     "output_type": "execute_result"
    }
   ],
   "source": [
    "# fit model\n",
    "xgb.fit(X_train,y_train)"
   ]
  },
  {
   "cell_type": "code",
   "execution_count": 136,
   "metadata": {},
   "outputs": [],
   "source": [
    "# predict on test set\n",
    "xgb_pred = xgb.predict(X_test)"
   ]
  },
  {
   "cell_type": "code",
   "execution_count": 158,
   "metadata": {},
   "outputs": [
    {
     "name": "stdout",
     "output_type": "stream",
     "text": [
      "Mean Squared Error: 423.03\n",
      "Explained Variance: 0.58\n"
     ]
    }
   ],
   "source": [
    "# calculate performance messures\n",
    "xgb_mse = mean_squared_error(y_test, xgb_pred)\n",
    "xgb_ev = explained_variance_score(y_test, xgb_pred)\n",
    "print(\"Mean Squared Error: %.2f\"%xgb_mse)\n",
    "print(\"Explained Variance: %.2f\"%xgb_ev)"
   ]
  },
  {
   "cell_type": "code",
   "execution_count": 141,
   "metadata": {},
   "outputs": [
    {
     "data": {
      "image/png": "[encoded data removed]",
      "text/plain": [
       "<matplotlib.figure.Figure at 0x26a7e488da0>"
      ]
     },
     "metadata": {},
     "output_type": "display_data"
    }
   ],
   "source": [
    "# scatter plot predicted and test target values\n",
    "xgb_predictions = pd.DataFrame({'xgb_pred': xgb_pred, 'y_test': y_test})\n",
    "sns.regplot(x=\"y_test\", y=\"xgb_pred\", data=xgb_predictions);"
   ]
  },
  {
   "cell_type": "markdown",
   "metadata": {},
   "source": [
    "# 3. Neural Network"
   ]
  },
  {
   "cell_type": "code",
   "execution_count": 142,
   "metadata": {},
   "outputs": [],
   "source": [
    "# import labraries\n",
    "import tensorflow as tf"
   ]
  },
  {
   "cell_type": "code",
   "execution_count": 76,
   "metadata": {},
   "outputs": [
    {
     "data": {
      "text/plain": [
       "[_NumericColumn(key='store_1', shape=(1,), default_value=None, dtype=tf.float32, normalizer_fn=None),\n",
       " _NumericColumn(key='store_2', shape=(1,), default_value=None, dtype=tf.float32, normalizer_fn=None),\n",
       " _NumericColumn(key='sen_ADVANCED_y', shape=(1,), default_value=None, dtype=tf.float32, normalizer_fn=None),\n",
       " _NumericColumn(key='on_demand', shape=(1,), default_value=None, dtype=tf.float32, normalizer_fn=None),\n",
       " _NumericColumn(key='found', shape=(1,), default_value=None, dtype=tf.float32, normalizer_fn=None),\n",
       " _NumericColumn(key='number_products', shape=(1,), default_value=None, dtype=tf.float32, normalizer_fn=None),\n",
       " _NumericColumn(key='sen_ADVANCED_x', shape=(1,), default_value=None, dtype=tf.float32, normalizer_fn=None),\n",
       " _NumericColumn(key='order_sb_distance', shape=(1,), default_value=None, dtype=tf.float32, normalizer_fn=None),\n",
       " _NumericColumn(key='store_3', shape=(1,), default_value=None, dtype=tf.float32, normalizer_fn=None)]"
      ]
     },
     "execution_count": 76,
     "metadata": {},
     "output_type": "execute_result"
    }
   ],
   "source": [
    "# define feature columns\n",
    "feat_cols_dict = {}\n",
    "for i in X.columns:\n",
    "     feat_cols_dict[\"{0}\".format(i)] = tf.feature_column.numeric_column(\"{0}\".format(i))\n",
    "feat_cols = [feat_cols_dict[x] for x in feat_cols_dict.keys()]\n",
    "feat_cols"
   ]
  },
  {
   "cell_type": "code",
   "execution_count": 77,
   "metadata": {},
   "outputs": [
    {
     "name": "stdout",
     "output_type": "stream",
     "text": [
      "INFO:tensorflow:Using default config.\n",
      "WARNING:tensorflow:Using temporary folder as model directory: C:\\Users\\Charles\\AppData\\Local\\Temp\\tmpqq5may8w\n",
      "INFO:tensorflow:Using config: {'_model_dir': 'C:\\\\Users\\\\Charles\\\\AppData\\\\Local\\\\Temp\\\\tmpqq5may8w', '_num_worker_replicas': 1, '_master': '', '_keep_checkpoint_every_n_hours': 10000, '_session_config': None, '_keep_checkpoint_max': 5, '_save_summary_steps': 100, '_log_step_count_steps': 100, '_task_id': 0, '_save_checkpoints_secs': 600, '_task_type': 'worker', '_service': None, '_save_checkpoints_steps': None, '_is_chief': True, '_tf_random_seed': None, '_num_ps_replicas': 0, '_cluster_spec': <tensorflow.python.training.server_lib.ClusterSpec object at 0x0000026A624B64E0>}\n"
     ]
    }
   ],
   "source": [
    "# creating model\n",
    "input_func = tf.estimator.inputs.pandas_input_fn(x=X_train, y=y_train, batch_size=40, num_epochs=10000, shuffle=True)\n",
    "model = tf.estimator.DNNRegressor(feature_columns=feat_cols, hidden_units=[20,20,20])"
   ]
  },
  {
   "cell_type": "code",
   "execution_count": 78,
   "metadata": {},
   "outputs": [
    {
     "name": "stdout",
     "output_type": "stream",
     "text": [
      "INFO:tensorflow:Create CheckpointSaverHook.\n",
      "INFO:tensorflow:Saving checkpoints for 1 into C:\\Users\\Charles\\AppData\\Local\\Temp\\tmpqq5may8w\\model.ckpt.\n",
      "INFO:tensorflow:step = 1, loss = 298050.0\n",
      "INFO:tensorflow:global_step/sec: 453.337\n",
      "INFO:tensorflow:step = 101, loss = 16907.1 (0.225 sec)\n",
      "INFO:tensorflow:global_step/sec: 516.756\n",
      "INFO:tensorflow:step = 201, loss = 15097.8 (0.195 sec)\n",
      "INFO:tensorflow:global_step/sec: 453.337\n",
      "INFO:tensorflow:step = 301, loss = 16335.2 (0.219 sec)\n",
      "INFO:tensorflow:global_step/sec: 481.807\n",
      "INFO:tensorflow:step = 401, loss = 13014.3 (0.210 sec)\n",
      "INFO:tensorflow:global_step/sec: 503.709\n",
      "INFO:tensorflow:step = 501, loss = 10406.7 (0.199 sec)\n",
      "INFO:tensorflow:global_step/sec: 506.265\n",
      "INFO:tensorflow:step = 601, loss = 19290.9 (0.197 sec)\n",
      "INFO:tensorflow:global_step/sec: 486.508\n",
      "INFO:tensorflow:step = 701, loss = 18475.3 (0.206 sec)\n",
      "INFO:tensorflow:global_step/sec: 468.235\n",
      "INFO:tensorflow:step = 801, loss = 15129.2 (0.214 sec)\n",
      "INFO:tensorflow:global_step/sec: 459.603\n",
      "INFO:tensorflow:step = 901, loss = 25578.6 (0.217 sec)\n",
      "INFO:tensorflow:global_step/sec: 511.46\n",
      "INFO:tensorflow:step = 1001, loss = 20355.1 (0.198 sec)\n",
      "INFO:tensorflow:global_step/sec: 508.845\n",
      "INFO:tensorflow:step = 1101, loss = 16622.1 (0.197 sec)\n",
      "INFO:tensorflow:global_step/sec: 491.304\n",
      "INFO:tensorflow:step = 1201, loss = 15637.2 (0.202 sec)\n",
      "INFO:tensorflow:global_step/sec: 511.456\n",
      "INFO:tensorflow:step = 1301, loss = 13874.2 (0.198 sec)\n",
      "INFO:tensorflow:global_step/sec: 488.893\n",
      "INFO:tensorflow:step = 1401, loss = 13851.9 (0.205 sec)\n",
      "INFO:tensorflow:global_step/sec: 514.094\n",
      "INFO:tensorflow:step = 1501, loss = 15629.9 (0.195 sec)\n",
      "INFO:tensorflow:global_step/sec: 496.191\n",
      "INFO:tensorflow:step = 1601, loss = 8921.15 (0.200 sec)\n",
      "INFO:tensorflow:global_step/sec: 514.092\n",
      "INFO:tensorflow:step = 1701, loss = 7870.89 (0.199 sec)\n",
      "INFO:tensorflow:global_step/sec: 514.058\n",
      "INFO:tensorflow:step = 1801, loss = 20104.6 (0.193 sec)\n",
      "INFO:tensorflow:global_step/sec: 481.839\n",
      "INFO:tensorflow:step = 1901, loss = 38159.7 (0.208 sec)\n",
      "INFO:tensorflow:Saving checkpoints for 2000 into C:\\Users\\Charles\\AppData\\Local\\Temp\\tmpqq5may8w\\model.ckpt.\n",
      "INFO:tensorflow:Loss for final step: 17569.8.\n"
     ]
    },
    {
     "data": {
      "text/plain": [
       "<tensorflow.python.estimator.canned.dnn.DNNRegressor at 0x26a7e150c88>"
      ]
     },
     "execution_count": 78,
     "metadata": {},
     "output_type": "execute_result"
    }
   ],
   "source": [
    "# training model\n",
    "model.train(input_fn=input_func,steps=2000)"
   ]
  },
  {
   "cell_type": "code",
   "execution_count": 79,
   "metadata": {},
   "outputs": [
    {
     "name": "stdout",
     "output_type": "stream",
     "text": [
      "INFO:tensorflow:Restoring parameters from C:\\Users\\Charles\\AppData\\Local\\Temp\\tmpqq5may8w\\model.ckpt-2000\n"
     ]
    }
   ],
   "source": [
    "# predicting on test set\n",
    "pred_input_func = tf.estimator.inputs.pandas_input_fn(x=X_test,\n",
    "                                                     batch_size=10,\n",
    "                                                     num_epochs=1,\n",
    "                                                     shuffle=False)\n",
    "predictions = model.predict(pred_input_func)\n",
    "pred_list = list(predictions)\n",
    "nn_pred = []\n",
    "for pred in pred_list:\n",
    "    nn_pred.append(pred['predictions'])\n",
    "nn_pred = np.asarray(nn_pred)\n",
    "nn_pred = nn_pred.reshape((-1,))"
   ]
  },
  {
   "cell_type": "code",
   "execution_count": 159,
   "metadata": {},
   "outputs": [
    {
     "name": "stdout",
     "output_type": "stream",
     "text": [
      "Mean Squared Error: 421.72\n",
      "Explained Variance: 0.58\n"
     ]
    }
   ],
   "source": [
    "# calculate performance messures\n",
    "nn_mse = mean_squared_error(y_test, nn_pred)\n",
    "nn_ev = explained_variance_score(y_test, nn_pred)\n",
    "print(\"Mean Squared Error: %.2f\"%nn_mse)\n",
    "print(\"Explained Variance: %.2f\"%nn_ev)"
   ]
  },
  {
   "cell_type": "code",
   "execution_count": 160,
   "metadata": {},
   "outputs": [
    {
     "data": {
      "image/png": "[encoded data removed]",
      "text/plain": [
       "<matplotlib.figure.Figure at 0x26a001cf3c8>"
      ]
     },
     "metadata": {},
     "output_type": "display_data"
    }
   ],
   "source": [
    "# scatter plot predicted and test target values\n",
    "nn_predictions = pd.DataFrame({'nn_pred': nn_pred, 'y_test': y_test})\n",
    "sns.regplot(x=\"y_test\", y=\"nn_pred\", data=nn_predictions);"
   ]
  },
  {
   "cell_type": "code",
   "execution_count": 88,
   "metadata": {},
   "outputs": [
    {
     "data": {
      "text/html": [
       "<div>\n",
       "<style scoped>\n",
       "    .dataframe tbody tr th:only-of-type {\n",
       "        vertical-align: middle;\n",
       "    }\n",
       "\n",
       "    .dataframe tbody tr th {\n",
       "        vertical-align: top;\n",
       "    }\n",
       "\n",
       "    .dataframe thead th {\n",
       "        text-align: right;\n",
       "    }\n",
       "</style>\n",
       "<table border=\"1\" class=\"dataframe\">\n",
       "  <thead>\n",
       "    <tr style=\"text-align: right;\">\n",
       "      <th></th>\n",
       "      <th>y_test</th>\n",
       "      <th>lr_pred</th>\n",
       "      <th>xgb_pred</th>\n",
       "      <th>nn_pred</th>\n",
       "    </tr>\n",
       "  </thead>\n",
       "  <tbody>\n",
       "    <tr>\n",
       "      <th>0</th>\n",
       "      <td>22.482184</td>\n",
       "      <td>54.657904</td>\n",
       "      <td>54.676163</td>\n",
       "      <td>54.045448</td>\n",
       "    </tr>\n",
       "    <tr>\n",
       "      <th>1</th>\n",
       "      <td>74.871336</td>\n",
       "      <td>91.702989</td>\n",
       "      <td>87.245049</td>\n",
       "      <td>92.187744</td>\n",
       "    </tr>\n",
       "    <tr>\n",
       "      <th>2</th>\n",
       "      <td>81.335122</td>\n",
       "      <td>89.451855</td>\n",
       "      <td>87.553490</td>\n",
       "      <td>90.116066</td>\n",
       "    </tr>\n",
       "    <tr>\n",
       "      <th>3</th>\n",
       "      <td>77.835186</td>\n",
       "      <td>78.987055</td>\n",
       "      <td>84.107521</td>\n",
       "      <td>80.063942</td>\n",
       "    </tr>\n",
       "    <tr>\n",
       "      <th>4</th>\n",
       "      <td>80.308855</td>\n",
       "      <td>60.124296</td>\n",
       "      <td>60.126663</td>\n",
       "      <td>59.842838</td>\n",
       "    </tr>\n",
       "    <tr>\n",
       "      <th>5</th>\n",
       "      <td>91.105051</td>\n",
       "      <td>67.072367</td>\n",
       "      <td>65.750099</td>\n",
       "      <td>66.795845</td>\n",
       "    </tr>\n",
       "    <tr>\n",
       "      <th>6</th>\n",
       "      <td>103.489400</td>\n",
       "      <td>95.633923</td>\n",
       "      <td>91.472504</td>\n",
       "      <td>97.655266</td>\n",
       "    </tr>\n",
       "    <tr>\n",
       "      <th>7</th>\n",
       "      <td>87.856369</td>\n",
       "      <td>72.648870</td>\n",
       "      <td>70.886253</td>\n",
       "      <td>71.085976</td>\n",
       "    </tr>\n",
       "    <tr>\n",
       "      <th>8</th>\n",
       "      <td>42.393284</td>\n",
       "      <td>77.026585</td>\n",
       "      <td>80.306107</td>\n",
       "      <td>73.520187</td>\n",
       "    </tr>\n",
       "    <tr>\n",
       "      <th>9</th>\n",
       "      <td>90.893137</td>\n",
       "      <td>49.184517</td>\n",
       "      <td>64.640091</td>\n",
       "      <td>55.562851</td>\n",
       "    </tr>\n",
       "  </tbody>\n",
       "</table>\n",
       "</div>"
      ],
      "text/plain": [
       "       y_test    lr_pred   xgb_pred    nn_pred\n",
       "0   22.482184  54.657904  54.676163  54.045448\n",
       "1   74.871336  91.702989  87.245049  92.187744\n",
       "2   81.335122  89.451855  87.553490  90.116066\n",
       "3   77.835186  78.987055  84.107521  80.063942\n",
       "4   80.308855  60.124296  60.126663  59.842838\n",
       "5   91.105051  67.072367  65.750099  66.795845\n",
       "6  103.489400  95.633923  91.472504  97.655266\n",
       "7   87.856369  72.648870  70.886253  71.085976\n",
       "8   42.393284  77.026585  80.306107  73.520187\n",
       "9   90.893137  49.184517  64.640091  55.562851"
      ]
     },
     "execution_count": 88,
     "metadata": {},
     "output_type": "execute_result"
    }
   ],
   "source": [
    "models_predictions = pd.DataFrame(data=list(zip(y_test, lr_pred, xgb_pred, nn_pred)), \n",
    "                                  columns=['y_test','lr_pred','xgb_pred','nn_pred'])\n",
    "\n",
    "models_predictions.head(10)"
   ]
  },
  {
   "cell_type": "code",
   "execution_count": 162,
   "metadata": {},
   "outputs": [
    {
     "name": "stdout",
     "output_type": "stream",
     "text": [
      "Linear Regression 423.70\n",
      "Gradient Boosting 423.03\n",
      "Neural Network 421.72\n"
     ]
    }
   ],
   "source": [
    "# summary of models performance MSE\n",
    "print(\"Linear Regression %.2f\" %lr_mse)\n",
    "print(\"Gradient Boosting %.2f\" %xgb_mse)\n",
    "print(\"Neural Network %.2f\" %nn_mse)"
   ]
  },
  {
   "cell_type": "code",
   "execution_count": 163,
   "metadata": {},
   "outputs": [
    {
     "name": "stdout",
     "output_type": "stream",
     "text": [
      "Linear Regression 0.58\n",
      "Gradient Boosting 0.58\n",
      "Neural Network 0.58\n"
     ]
    }
   ],
   "source": [
    "# summary of models performance explained_variance\n",
    "print(\"Linear Regression %.2f\" %lr_ev)\n",
    "print(\"Gradient Boosting %.2f\" %xgb_ev)\n",
    "print(\"Neural Network %.2f\" %nn_ev)"
   ]
  },
  {
   "cell_type": "markdown",
   "metadata": {},
   "source": [
    "We can observe the three models have similar performance metrics, being the Neural Network that outperforms the others by a slightly difference. We can explain these results in two ways. First, the data doesn't not contain complex patters beyond linearity, or second, the Gradient Boosting and Neural Network models trained were not able to find those more complex patterns.  \n",
    "Since the Neural Network has the best performance, this model will be used to get the final predictions."
   ]
  },
  {
   "cell_type": "markdown",
   "metadata": {},
   "source": [
    "# 4. Predictions"
   ]
  },
  {
   "cell_type": "code",
   "execution_count": 167,
   "metadata": {},
   "outputs": [],
   "source": [
    "# read orders to predict\n",
    "orders_new = pd.read_csv('data/model_data.csv')\n",
    "orders_new = orders_new.loc[(orders_new['total_minutes'].isna())]"
   ]
  },
  {
   "cell_type": "code",
   "execution_count": 168,
   "metadata": {},
   "outputs": [
    {
     "name": "stdout",
     "output_type": "stream",
     "text": [
      "<class 'pandas.core.frame.DataFrame'>\n",
      "Index: 750 entries, 407703c42dd95fe9a2333f4ecc3937dc to 7ffa2d60aea99143b28564d737ca4b2b\n",
      "Data columns (total 9 columns):\n",
      "on_demand            750 non-null int64\n",
      "number_products      750 non-null float64\n",
      "found                750 non-null float64\n",
      "sen_ADVANCED_x       750 non-null int64\n",
      "sen_ADVANCED_y       750 non-null int64\n",
      "order_sb_distance    750 non-null float64\n",
      "store_1              750 non-null int64\n",
      "store_2              750 non-null int64\n",
      "store_3              750 non-null int64\n",
      "dtypes: float64(3), int64(6)\n",
      "memory usage: 58.6+ KB\n"
     ]
    }
   ],
   "source": [
    "# drop total_minutes NAs and  selecting variables with correlation >= |0.1| (check PART II)\n",
    "orders_new = orders_new[['order_id','on_demand', 'number_products', 'found',\n",
    "       'sen_ADVANCED_x', 'sen_ADVANCED_y', 'order_sb_distance', 'store_1',\n",
    "       'store_2', 'store_3']]\n",
    "# set order_id as index\n",
    "orders_new = orders_new.set_index('order_id')\n",
    "orders_new.info()"
   ]
  },
  {
   "cell_type": "code",
   "execution_count": 169,
   "metadata": {},
   "outputs": [],
   "source": [
    "# scale train data\n",
    "scaler = MinMaxScaler()\n",
    "scaler.fit(orders_new)\n",
    "orders_new = pd.DataFrame(data=scaler.transform(orders_new),\n",
    "                      columns=orders_new.columns,\n",
    "                      index=orders_new.index)"
   ]
  },
  {
   "cell_type": "code",
   "execution_count": 170,
   "metadata": {},
   "outputs": [
    {
     "name": "stdout",
     "output_type": "stream",
     "text": [
      "INFO:tensorflow:Restoring parameters from C:\\Users\\Charles\\AppData\\Local\\Temp\\tmpqq5may8w\\model.ckpt-2000\n"
     ]
    }
   ],
   "source": [
    "# predicting on orders_predictions set\n",
    "pred_input_func_final = tf.estimator.inputs.pandas_input_fn(x=orders_new,\n",
    "                                                     batch_size=10,\n",
    "                                                     num_epochs=1,\n",
    "                                                     shuffle=False)\n",
    "order_predictions = model.predict(pred_input_func_final)\n",
    "order_pred_list = list(order_predictions)\n",
    "final_pred = []\n"
   ]
  },
  {
   "cell_type": "code",
   "execution_count": 171,
   "metadata": {},
   "outputs": [],
   "source": [
    "for pred in order_pred_list:\n",
    "    final_pred.append(pred['predictions'])\n",
    "final_pred = np.asarray(final_pred)"
   ]
  },
  {
   "cell_type": "code",
   "execution_count": 172,
   "metadata": {},
   "outputs": [
    {
     "data": {
      "text/plain": [
       "order_id\n",
       "407703c42dd95fe9a2333f4ecc3937dc    190.242218\n",
       "c3aa2be4956b984fe5edec2b47ed5cf3    149.933517\n",
       "828021ba0dd464537cf1db4f16a90cf5     88.249641\n",
       "0631e16286d87620de04a93ffaa268cc     64.295105\n",
       "17561ec034e13e8c272c37948888d7d1    183.803787\n",
       "0f899c9e7164b3777a3f761a07e60716     95.089752\n",
       "dc19a39ae18239e4f951341e2922936b    236.936508\n",
       "f5e63604dfa8090d86666d74cb7307ba     68.829376\n",
       "a650ad68b4497e2074565f78afbb748c    114.892830\n",
       "927cf3b913c8d2f70e929ae6b453a19c     64.266769\n",
       "Name: predictions, dtype: float32"
      ]
     },
     "execution_count": 172,
     "metadata": {},
     "output_type": "execute_result"
    }
   ],
   "source": [
    "# add column with predictions to the dataset\n",
    "orders_new['predictions'] = final_pred\n",
    "orders_new['predictions'].head(10)"
   ]
  },
  {
   "cell_type": "code",
   "execution_count": 173,
   "metadata": {},
   "outputs": [],
   "source": [
    "# Export orders_id and predictions\n",
    "orders_new.to_csv(path_or_buf='data/predictions.csv', columns=['predictions'])"
   ]
  }
 ],
 "metadata": {
  "kernelspec": {
   "display_name": "Python 3",
   "language": "python",
   "name": "python3"
  },
  "language_info": {
   "codemirror_mode": {
    "name": "ipython",
    "version": 3
   },
   "file_extension": ".py",
   "mimetype": "text/x-python",
   "name": "python",
   "nbconvert_exporter": "python",
   "pygments_lexer": "ipython3",
   "version": "3.5.0"
  }
 },
 "nbformat": 4,
 "nbformat_minor": 2
}
